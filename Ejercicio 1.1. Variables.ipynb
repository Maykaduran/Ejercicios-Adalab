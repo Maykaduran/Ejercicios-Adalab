{
 "cells": [
  {
   "cell_type": "code",
   "execution_count": 2,
   "id": "c248cd96",
   "metadata": {},
   "outputs": [],
   "source": [
    "#Crea la variable gatos que sea un número con el valor 8.\n",
    "gatos = 8"
   ]
  },
  {
   "cell_type": "code",
   "execution_count": 3,
   "id": "4602f1c9",
   "metadata": {},
   "outputs": [],
   "source": [
    "#Crea la variable perros que sea un texto de seis caracteres: la palabra cuatro.\n",
    "perros = \"cuatro\""
   ]
  },
  {
   "cell_type": "code",
   "execution_count": 4,
   "id": "04ccd442",
   "metadata": {},
   "outputs": [
    {
     "name": "stdout",
     "output_type": "stream",
     "text": [
      "8\n",
      "cuatro\n",
      "cuatro más cuatro\n"
     ]
    }
   ],
   "source": [
    "#Imprime la variable gatos.\n",
    "# Imprime la variable perros.\n",
    "# Imprime la variable perros seguida por la palabra más y la palabra perros otra vez.\n",
    "print(gatos)\n",
    "print(perros)\n",
    "print(perros, \"más\", perros)\n"
   ]
  },
  {
   "cell_type": "code",
   "execution_count": 5,
   "id": "22068b9e",
   "metadata": {},
   "outputs": [
    {
     "name": "stdout",
     "output_type": "stream",
     "text": [
      "cuatro más cuatro es igual a 8\n"
     ]
    }
   ],
   "source": [
    "#Consigue que el ordenador devuelva el siguiente texto, usando la variable perros: cuatro más cuatro es igual a 8.\n",
    "print(perros, \"más\", perros, \"es igual a\", gatos)   "
   ]
  },
  {
   "cell_type": "code",
   "execution_count": 6,
   "id": "098a22d9",
   "metadata": {},
   "outputs": [
    {
     "name": "stdout",
     "output_type": "stream",
     "text": [
      "cuatro + cuatro = 8\n"
     ]
    }
   ],
   "source": [
    "#Consigue que el ordenador devuelva el siguiente texto, usando la variableperros: cuatro + cuatro = 8.\n",
    "print(perros, \"+\", perros, \"=\", gatos)\n"
   ]
  },
  {
   "cell_type": "code",
   "execution_count": 7,
   "id": "f5e68c99",
   "metadata": {},
   "outputs": [
    {
     "name": "stdout",
     "output_type": "stream",
     "text": [
      "2.0\n",
      "2\n",
      "0\n"
     ]
    }
   ],
   "source": [
    "#Define una variable pizzas con un valor 2 que sea del tipo float.\n",
    "# Define magdalenas con un valor 2 que sea del tipo string.\n",
    "# Define postres con un valor 0 que sea del tipo int.\n",
    "pizzas = float(2)\n",
    "print(pizzas)\n",
    "magdalenas = str(2)\n",
    "print(magdalenas)\n",
    "postres = int(0)\n",
    "print(postres)"
   ]
  },
  {
   "cell_type": "code",
   "execution_count": 8,
   "id": "29a46ad1",
   "metadata": {},
   "outputs": [
    {
     "name": "stdout",
     "output_type": "stream",
     "text": [
      "<class 'float'>\n"
     ]
    }
   ],
   "source": [
    "#¿Qué tipo de dato es la variable pizzas?\n",
    "print(type(pizzas))\n"
   ]
  },
  {
   "cell_type": "code",
   "execution_count": null,
   "id": "54adfcd6",
   "metadata": {},
   "outputs": [
    {
     "name": "stdout",
     "output_type": "stream",
     "text": [
      "<class 'str'>\n"
     ]
    }
   ],
   "source": [
    "#¿Es la variable magdalenas de tipo string?\n",
    "print(type(magdalenas)) \n",
    "\n"
   ]
  },
  {
   "cell_type": "code",
   "execution_count": 10,
   "id": "d62a2d12",
   "metadata": {},
   "outputs": [
    {
     "name": "stdout",
     "output_type": "stream",
     "text": [
      "10.0\n",
      "6.0\n",
      "16\n",
      "19.0\n",
      "81\n",
      "10.125\n",
      "2.0\n"
     ]
    }
   ],
   "source": [
    "#Define postres con un valor 0.\n",
    "# Calcula la suma de gatos y pizzas.\n",
    "# Calcula la diferencia entre gatos y pizzas.\n",
    "# Multiplica las cantidad de gatos por 2.\n",
    "# Crea una variable piezas que sea 8 veces la cantidad de pizzas.\n",
    "# Haz que la cantidad de piezas se aumente en 3.\n",
    "# Calcula el cuadrado de 9 y guárdalo en una variable llamada superficie.\n",
    "# ¿Cuánta superficie hay por gato?\n",
    "# ¿Cuántas piezas enteras hay por gato?\n",
    "postres = 0\n",
    "print(gatos+pizzas)\n",
    "print(gatos-pizzas)\n",
    "print(gatos*2)\n",
    "piezas = pizzas*8\n",
    "print(piezas+3)\n",
    "superficie = 9**2\n",
    "print(superficie)\n",
    "print(superficie/gatos)\n",
    "print(piezas/gatos)\n",
    "\n"
   ]
  },
  {
   "cell_type": "code",
   "execution_count": 11,
   "id": "67cfcb3c",
   "metadata": {},
   "outputs": [
    {
     "name": "stdout",
     "output_type": "stream",
     "text": [
      "-152.0\n"
     ]
    }
   ],
   "source": [
    "#¿Cuántas piezas te quedan si cada gato se come 21 piezas?\n",
    "print(piezas - (gatos * 21))\n"
   ]
  },
  {
   "cell_type": "code",
   "execution_count": 12,
   "id": "7965b3c7",
   "metadata": {},
   "outputs": [
    {
     "name": "stdout",
     "output_type": "stream",
     "text": [
      "10.1\n"
     ]
    }
   ],
   "source": [
    "#¿Cuánta superficie hay por gato en metros cuadrados? Redondeala a un sólo decimal. Intenta calcularlo dentro del mismo print() en una sola línea.\n",
    "print(round(superficie/gatos, 1))\n"
   ]
  },
  {
   "cell_type": "code",
   "execution_count": 13,
   "id": "f64e7be8",
   "metadata": {},
   "outputs": [
    {
     "name": "stdout",
     "output_type": "stream",
     "text": [
      "True\n"
     ]
    }
   ],
   "source": [
    "#¿Es verdad que hay más gatos que pizzas?\n",
    "print(gatos > pizzas)\n"
   ]
  },
  {
   "cell_type": "code",
   "execution_count": 14,
   "id": "39375051",
   "metadata": {},
   "outputs": [
    {
     "name": "stdout",
     "output_type": "stream",
     "text": [
      "True\n"
     ]
    }
   ],
   "source": [
    "#¿Es verdad que hay menos gatos que superficie?\n",
    "print(gatos < superficie)"
   ]
  },
  {
   "cell_type": "code",
   "execution_count": 15,
   "id": "0c5f30a6",
   "metadata": {},
   "outputs": [
    {
     "name": "stdout",
     "output_type": "stream",
     "text": [
      "True\n"
     ]
    }
   ],
   "source": [
    "#¿Es verdad que 2 veces la cantidad de pizzas es distinto de la cantidad de gatos?\n",
    "print((2 * pizzas) != gatos)"
   ]
  },
  {
   "cell_type": "code",
   "execution_count": 16,
   "id": "b97fe0bb",
   "metadata": {},
   "outputs": [
    {
     "name": "stdout",
     "output_type": "stream",
     "text": [
      "False\n"
     ]
    }
   ],
   "source": [
    "#¿Es falso que 2 veces la cantidad de pizzas es igual a la cantidad de gatos?\n",
    "print((2 * pizzas) == gatos)"
   ]
  },
  {
   "cell_type": "code",
   "execution_count": 17,
   "id": "aa47f8e6",
   "metadata": {},
   "outputs": [
    {
     "name": "stdout",
     "output_type": "stream",
     "text": [
      "True\n"
     ]
    }
   ],
   "source": [
    "#La variable piezas, es mayor o igual a pizzas y superficie es distinto de cero?\n",
    "print((piezas >= pizzas) and (superficie != 0))"
   ]
  },
  {
   "cell_type": "code",
   "execution_count": 18,
   "id": "b6bcd15c",
   "metadata": {},
   "outputs": [
    {
     "name": "stdout",
     "output_type": "stream",
     "text": [
      "True\n"
     ]
    }
   ],
   "source": [
    "#La variable piezas, es mayor o igual a pizzas y menor que superficie?\n",
    "print((piezas >= pizzas) and (piezas < superficie))"
   ]
  },
  {
   "cell_type": "code",
   "execution_count": 19,
   "id": "b745ed12",
   "metadata": {},
   "outputs": [
    {
     "name": "stdout",
     "output_type": "stream",
     "text": [
      "True\n"
     ]
    }
   ],
   "source": [
    "#Me interesa saber si hay más pizzas que gatos, o si el residuo de piezas por gato es cero.\n",
    "print((pizzas > gatos) or (piezas % gatos == 0))"
   ]
  },
  {
   "cell_type": "code",
   "execution_count": 20,
   "id": "55e3dd84",
   "metadata": {},
   "outputs": [
    {
     "name": "stdout",
     "output_type": "stream",
     "text": [
      "False\n"
     ]
    }
   ],
   "source": [
    "#Comprueba las comparaciones de 29. en una sola línea, sin usar la variable piezas más que una sola vez.\n",
    "print(((pizzas * 8) >= 29) and ((pizzas * 8) <= 91) and ((pizzas * 8) != 64))"
   ]
  },
  {
   "cell_type": "code",
   "execution_count": 21,
   "id": "29e49938",
   "metadata": {},
   "outputs": [
    {
     "name": "stdout",
     "output_type": "stream",
     "text": [
      "True\n"
     ]
    }
   ],
   "source": [
    "#Comprueba si superficie es diferente a cero sin usar !=.\n",
    "print(superficie > 0 or superficie < 0)"
   ]
  },
  {
   "cell_type": "code",
   "execution_count": 22,
   "id": "d2998f6c",
   "metadata": {},
   "outputs": [],
   "source": [
    "#Usa input() para preguntar a un usuario el día de su cumpleaños y guarda la respuesta en la variable dia_cumple.\n",
    "dia_cumple = input(\"¿Qué día del mes es tu cumpleaños?\")"
   ]
  },
  {
   "cell_type": "code",
   "execution_count": 23,
   "id": "5a4c4bbf",
   "metadata": {},
   "outputs": [],
   "source": [
    "#Usa input() para preguntar a un usuario el mes de su cumpleaños y guarda la respuesta en la variable mes_cumple.\n",
    "mes_cumple = input(\"¿En qué mes es tu cumpleaños?\")"
   ]
  },
  {
   "cell_type": "code",
   "execution_count": 24,
   "id": "f3763f1c",
   "metadata": {},
   "outputs": [],
   "source": [
    "#Usa .strip() en ambas de las variables definidas.\n",
    "dia_cumple = dia_cumple.strip()\n",
    "mes_cumple = mes_cumple.strip()"
   ]
  },
  {
   "cell_type": "code",
   "execution_count": 25,
   "id": "be1ce8b1",
   "metadata": {},
   "outputs": [
    {
     "name": "stdout",
     "output_type": "stream",
     "text": [
      "14 de noviembre\n"
     ]
    }
   ],
   "source": [
    "#Haz que fecha_cumple sea un string compuesto por el día y el mes.\n",
    "# Imprime Fecha de cumpleaños es más el día y el mes.\n",
    "fecha_cumple = dia_cumple + \" de \" + mes_cumple\n",
    "print(fecha_cumple)"
   ]
  },
  {
   "cell_type": "code",
   "execution_count": 26,
   "id": "24785515",
   "metadata": {},
   "outputs": [
    {
     "name": "stdout",
     "output_type": "stream",
     "text": [
      "CUATRO\n"
     ]
    }
   ],
   "source": [
    "#Imprime la variable perros en todas mayúsculas.\n",
    "print(perros.upper())"
   ]
  }
 ],
 "metadata": {
  "kernelspec": {
   "display_name": "base",
   "language": "python",
   "name": "python3"
  },
  "language_info": {
   "codemirror_mode": {
    "name": "ipython",
    "version": 3
   },
   "file_extension": ".py",
   "mimetype": "text/x-python",
   "name": "python",
   "nbconvert_exporter": "python",
   "pygments_lexer": "ipython3",
   "version": "3.13.5"
  }
 },
 "nbformat": 4,
 "nbformat_minor": 5
}
