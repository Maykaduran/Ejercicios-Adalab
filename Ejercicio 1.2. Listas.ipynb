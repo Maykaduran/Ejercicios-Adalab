{
 "cells": [
  {
   "cell_type": "code",
   "execution_count": 2,
   "id": "580d2e1c",
   "metadata": {},
   "outputs": [
    {
     "data": {
      "text/plain": [
       "['v',\n",
       " 'e',\n",
       " 'r',\n",
       " 'd',\n",
       " 'e',\n",
       " ',',\n",
       " ' ',\n",
       " 'a',\n",
       " 'm',\n",
       " 'a',\n",
       " 'r',\n",
       " 'i',\n",
       " 'l',\n",
       " 'l',\n",
       " 'o',\n",
       " ',',\n",
       " ' ',\n",
       " 'a',\n",
       " 'z',\n",
       " 'u',\n",
       " 'l',\n",
       " ',',\n",
       " ' ',\n",
       " 'r',\n",
       " 'o',\n",
       " 's',\n",
       " 'a',\n",
       " ',',\n",
       " ' ',\n",
       " 'r',\n",
       " 'o',\n",
       " 'j',\n",
       " 'o',\n",
       " ',',\n",
       " ' ',\n",
       " 'm',\n",
       " 'o',\n",
       " 'r',\n",
       " 'a',\n",
       " 'd',\n",
       " 'o']"
      ]
     },
     "execution_count": 2,
     "metadata": {},
     "output_type": "execute_result"
    }
   ],
   "source": [
    "#Haz una lista llamada colores donde almacenemos los primeros 6 colores que te vengan a la mente.\n",
    "colores = \"verde, amarillo, azul, rosa, rojo, morado\"\n",
    "list(colores)\n"
   ]
  },
  {
   "cell_type": "code",
   "execution_count": 90,
   "id": "6ecac3e7",
   "metadata": {},
   "outputs": [
    {
     "name": "stdout",
     "output_type": "stream",
     "text": [
      "[5, 21, 55, 1, 12]\n"
     ]
    }
   ],
   "source": [
    "# Haz una lista llamada buses de las líneas de autobuses que pasan por tu casa.\n",
    "buses = [5, 21, 55, 1, 12]\n",
    "print(buses)"
   ]
  },
  {
   "cell_type": "code",
   "execution_count": 91,
   "id": "77d1bc9e",
   "metadata": {},
   "outputs": [
    {
     "name": "stdout",
     "output_type": "stream",
     "text": [
      "[23, 26, 22, 23, 20, 25, 26]\n"
     ]
    }
   ],
   "source": [
    "# Apunta la previsión de temperaturas máximas para todos los días de esta semana en temperaturas.\n",
    "temperaturas = [23, 26, 22, 23, 20, 25, 26]\n",
    "print(temperaturas)"
   ]
  },
  {
   "cell_type": "code",
   "execution_count": 133,
   "id": "70f544a5",
   "metadata": {},
   "outputs": [
    {
     "name": "stdout",
     "output_type": "stream",
     "text": [
      "['M', 'a', 'r', 'i', 'a', '', 'C', 'a', 'r', 'm', 'e', 'n']\n"
     ]
    }
   ],
   "source": [
    "# Convierte tu(s) nombre(s) a una lista nombres de caracteres.\n",
    "nombres = [\"M\", \"a\", \"r\", \"i\", \"a\", \"\", \"C\", \"a\", \"r\", \"m\", \"e\", \"n\"]\n",
    "print(nombres)"
   ]
  },
  {
   "cell_type": "code",
   "execution_count": 134,
   "id": "eae2da10",
   "metadata": {},
   "outputs": [
    {
     "name": "stdout",
     "output_type": "stream",
     "text": [
      "['D', 'u', 'r', 'a', 'n', '', 'M', 'u', 'n', 'o', 'z']\n"
     ]
    }
   ],
   "source": [
    "# Convierte tu(s) apellido(s) a una lista apellidos de caracteres.\n",
    "apellidos = [\"D\", \"u\", \"r\", \"a\", \"n\", \"\", \"M\", \"u\", \"n\", \"o\", \"z\"]\n",
    "print(apellidos)"
   ]
  },
  {
   "cell_type": "code",
   "execution_count": 94,
   "id": "675c6389",
   "metadata": {},
   "outputs": [
    {
     "name": "stdout",
     "output_type": "stream",
     "text": [
      "5\n"
     ]
    }
   ],
   "source": [
    "# ¿Cuántos búses pasan por tu casa?\n",
    "Cantidad_de_buses = len(buses)\n",
    "print(Cantidad_de_buses)"
   ]
  },
  {
   "cell_type": "code",
   "execution_count": 135,
   "id": "c3ed72e7",
   "metadata": {},
   "outputs": [
    {
     "name": "stdout",
     "output_type": "stream",
     "text": [
      "11\n"
     ]
    }
   ],
   "source": [
    "# ¿Cuántos caracteres hay en tu apellido(s) (inluyendo los espacios)?\n",
    "cantidad_de_caracteres = len(apellidos)\n",
    "print(cantidad_de_caracteres)"
   ]
  },
  {
   "cell_type": "code",
   "execution_count": 96,
   "id": "278ea334",
   "metadata": {},
   "outputs": [
    {
     "name": "stdout",
     "output_type": "stream",
     "text": [
      "26\n",
      "20\n"
     ]
    }
   ],
   "source": [
    "# ¿Cuáles son las temperaturas máximas (t_max) y mínimas (t_min) para esta semana?\n",
    "t_max = max(temperaturas)\n",
    "print(t_max)\n",
    "t_min = min(temperaturas)\n",
    "print(t_min)\n"
   ]
  },
  {
   "cell_type": "code",
   "execution_count": 136,
   "id": "7ba007cc",
   "metadata": {},
   "outputs": [
    {
     "name": "stdout",
     "output_type": "stream",
     "text": [
      "True\n"
     ]
    }
   ],
   "source": [
    "# Hay una 'e' en tu nombre?\n",
    "print(\"e\" in nombres)\n"
   ]
  },
  {
   "cell_type": "code",
   "execution_count": 98,
   "id": "8b72b797",
   "metadata": {},
   "outputs": [
    {
     "name": "stdout",
     "output_type": "stream",
     "text": [
      "True\n"
     ]
    }
   ],
   "source": [
    "# Tienes el color 'rosa' en la lista de colores?\n",
    "print(\"rosa\" in colores)"
   ]
  },
  {
   "cell_type": "code",
   "execution_count": 137,
   "id": "fb84f99a",
   "metadata": {},
   "outputs": [
    {
     "name": "stdout",
     "output_type": "stream",
     "text": [
      "True\n"
     ]
    }
   ],
   "source": [
    "# ¿Tiene una 'x' tu nombre? (Usa not in)\n",
    "print(\"x\" not in nombres)"
   ]
  },
  {
   "cell_type": "code",
   "execution_count": 100,
   "id": "183a4e3c",
   "metadata": {},
   "outputs": [
    {
     "name": "stdout",
     "output_type": "stream",
     "text": [
      "[23, 26, 22, 23, 20, 25, 26]\n",
      "[23, 26, 22, 23, 20, 25, 26]\n"
     ]
    }
   ],
   "source": [
    "# Copia el contenido de temperaturas a temperaturas2, y temperaturas3.\n",
    "temperaturas2 = temperaturas.copy()\n",
    "temperaturas3 = temperaturas.copy()\n",
    "print(temperaturas2)\n",
    "print(temperaturas3)"
   ]
  },
  {
   "cell_type": "code",
   "execution_count": 101,
   "id": "ba8d2734",
   "metadata": {},
   "outputs": [
    {
     "name": "stdout",
     "output_type": "stream",
     "text": [
      "[]\n"
     ]
    }
   ],
   "source": [
    "# Vacía el contenido de la variable temperaturas2\n",
    "temperaturas2.clear()\n",
    "print(temperaturas2)"
   ]
  },
  {
   "cell_type": "code",
   "execution_count": 102,
   "id": "9d5b2e7f",
   "metadata": {},
   "outputs": [
    {
     "name": "stdout",
     "output_type": "stream",
     "text": [
      "[23, 26, 22, 23, 20, 25, 26] []\n"
     ]
    }
   ],
   "source": [
    "# Imprime el contenido de temperaturas y temperaturas2.\n",
    "print(temperaturas, temperaturas2)\n"
   ]
  },
  {
   "cell_type": "code",
   "execution_count": 139,
   "id": "df8d49c1",
   "metadata": {},
   "outputs": [
    {
     "name": "stdout",
     "output_type": "stream",
     "text": [
      "['M', 'a', 'r', 'i', 'a', '', 'C', 'a', 'r', 'm', 'e', 'n']\n"
     ]
    }
   ],
   "source": [
    "# Copia el contenido de nombres a nombres2.\n",
    "nombres2 = nombres.copy()\n",
    "print(nombres2)"
   ]
  },
  {
   "cell_type": "code",
   "execution_count": 140,
   "id": "86c009ae",
   "metadata": {},
   "outputs": [
    {
     "name": "stdout",
     "output_type": "stream",
     "text": [
      "['D', 'u', 'r', 'a', 'n', '', 'M', 'u', 'n', 'o', 'z']\n"
     ]
    }
   ],
   "source": [
    "# Copia el contenido de apellidos a apellidos2.\n",
    "apellidos2 = apellidos.copy()\n",
    "print(apellidos2)"
   ]
  },
  {
   "cell_type": "code",
   "execution_count": 120,
   "id": "f2693cb2",
   "metadata": {},
   "outputs": [
    {
     "name": "stdout",
     "output_type": "stream",
     "text": [
      "[20, 22, 23, 23, 25, 26, 26]\n"
     ]
    }
   ],
   "source": [
    "# Ordena la variable temperaturas3 de mayor a menor.\n",
    "temperaturas3.sort()\n",
    "print(temperaturas3)"
   ]
  },
  {
   "cell_type": "code",
   "execution_count": 142,
   "id": "46176ad7",
   "metadata": {},
   "outputs": [
    {
     "name": "stdout",
     "output_type": "stream",
     "text": [
      "['', 'C', 'M', 'a', 'a', 'a', 'e', 'i', 'm', 'n', 'r', 'r'] ['', 'D', 'M', 'a', 'n', 'n', 'o', 'r', 'u', 'u', 'z']\n"
     ]
    }
   ],
   "source": [
    "# Ordena los caracteres de tu nombre y tu apellido en las listas nombres2 y apellidos2. \n",
    "\n",
    "apellidos2.sort()\n",
    "nombres2.sort()\n",
    "\n",
    "# Imprime el resultado e investiga: ¿qué orden ha cogido? ¿Cómo trata las mayúsculas?\n",
    "print(nombres2,apellidos2)"
   ]
  },
  {
   "cell_type": "code",
   "execution_count": 143,
   "id": "8c2dab83",
   "metadata": {},
   "outputs": [
    {
     "name": "stdout",
     "output_type": "stream",
     "text": [
      "['', 'C', 'M', 'a', 'a', 'a', 'e', 'i', 'm', 'n', 'r', 'r']\n"
     ]
    },
    {
     "data": {
      "text/plain": [
       "3"
      ]
     },
     "execution_count": 143,
     "metadata": {},
     "output_type": "execute_result"
    }
   ],
   "source": [
    "# ¿Cuántas 'a' tiene tu nombre?\n",
    "\n",
    "print(nombres2)\n",
    "nombres2.count(\"a\")\n"
   ]
  },
  {
   "cell_type": "code",
   "execution_count": 108,
   "id": "782b60bb",
   "metadata": {},
   "outputs": [],
   "source": [
    "# Verifica si los resultados de ejercicio 19 son iguales para la lista nombres2."
   ]
  },
  {
   "cell_type": "code",
   "execution_count": 150,
   "id": "5e7b3a6c",
   "metadata": {},
   "outputs": [
    {
     "name": "stdout",
     "output_type": "stream",
     "text": [
      "[23, 26, 22, 23, 20, 25, 26]\n",
      "2\n",
      "1\n"
     ]
    }
   ],
   "source": [
    "# ¿Cuántas veces esta semana llega la temperatura a la t_max? ¿Y cuántas a la t_min?\n",
    "print(temperaturas)\n",
    "t_max\n",
    "print(temperaturas.count(26))\n",
    "t_min\n",
    "print(temperaturas.count(20))"
   ]
  },
  {
   "cell_type": "code",
   "execution_count": 153,
   "id": "72c48ed4",
   "metadata": {},
   "outputs": [
    {
     "name": "stdout",
     "output_type": "stream",
     "text": [
      "['monday', 'tuesday', 'wednesday', 'thursday', 'friday', 'saturday', 'sunday']\n"
     ]
    }
   ],
   "source": [
    "# La lista dias_en contiene 'monday', 'tuesday', 'wednesday', 'thursday', 'friday', 'saturday', y 'sunday'.\n",
    "dias_en = ['monday', 'tuesday', 'wednesday', 'thursday', 'friday', 'saturday', 'sunday']\n",
    "print(dias_en)"
   ]
  },
  {
   "cell_type": "code",
   "execution_count": 155,
   "id": "c7ee0327",
   "metadata": {},
   "outputs": [
    {
     "name": "stdout",
     "output_type": "stream",
     "text": [
      "[10, 10, 13, 14, 12, 15, 12, 11, 13, 17, 18, 15, 15, 17, 17, 13, 13, 11, 12, 10, 12, 14, 12, 12, 11, 12, 16, 16, 14, 17, 18]\n"
     ]
    }
   ],
   "source": [
    "# Define temperaturas_diciembre 👇🏽:Copy\n",
    "\n",
    "temperaturas_diciembre = [10, 10, 13, 14, 12, 15, 12, 11, 13, 17, 18, 15, 15, 17, 17, 13, 13, 11, 12, 10, 12, 14, 12, 12, 11, 12, 16, 16, 14, 17, 18]\n",
    "print(temperaturas_diciembre)"
   ]
  },
  {
   "cell_type": "code",
   "execution_count": 157,
   "id": "7fae9176",
   "metadata": {},
   "outputs": [
    {
     "name": "stdout",
     "output_type": "stream",
     "text": [
      "el penúltimo día de la semana es saturday\n"
     ]
    }
   ],
   "source": [
    "#¿Cuál es el penúltimo día de la semana?\n",
    "print(\"el penúltimo día de la semana es\", dias_en[-2])"
   ]
  },
  {
   "cell_type": "code",
   "execution_count": 158,
   "id": "1bf3e161",
   "metadata": {},
   "outputs": [
    {
     "name": "stdout",
     "output_type": "stream",
     "text": [
      "el último elemento de la lista de temperaturas de diciembre es 18\n"
     ]
    }
   ],
   "source": [
    "# ¿Cuál es el último elemento de la lista de temperaturas de diciembre?\n",
    "print(\"el último elemento de la lista de temperaturas de diciembre es\", temperaturas_diciembre[-1])"
   ]
  },
  {
   "cell_type": "code",
   "execution_count": 160,
   "id": "8ed98e1d",
   "metadata": {},
   "outputs": [
    {
     "name": "stdout",
     "output_type": "stream",
     "text": [
      "True\n",
      "5\n"
     ]
    }
   ],
   "source": [
    "# ¿Está 'friday' en la lista de días en inglés? Si está, ¿dónde?\n",
    "print( \"saturday\" in dias_en)\n",
    "print(dias_en.index(\"saturday\"))"
   ]
  },
  {
   "cell_type": "code",
   "execution_count": 162,
   "id": "bee63ff4",
   "metadata": {},
   "outputs": [
    {
     "name": "stdout",
     "output_type": "stream",
     "text": [
      "18\n"
     ]
    }
   ],
   "source": [
    "# ¿Cuál era la temperatura máxima en diciembre?\n",
    "t_max_dic = max(temperaturas_diciembre)\n",
    "print(t_max_dic)"
   ]
  },
  {
   "cell_type": "code",
   "execution_count": 163,
   "id": "de01ffc2",
   "metadata": {},
   "outputs": [
    {
     "ename": "ValueError",
     "evalue": "'miércoles' is not in list",
     "output_type": "error",
     "traceback": [
      "\u001b[1;31m---------------------------------------------------------------------------\u001b[0m",
      "\u001b[1;31mValueError\u001b[0m                                Traceback (most recent call last)",
      "Cell \u001b[1;32mIn[163], line 2\u001b[0m\n\u001b[0;32m      1\u001b[0m \u001b[38;5;66;03m# Encuentra el índice de 'miércoles' en dias_es.\u001b[39;00m\n\u001b[1;32m----> 2\u001b[0m \u001b[38;5;28mprint\u001b[39m(dias_en\u001b[38;5;241m.\u001b[39mindex(\u001b[38;5;124m\"\u001b[39m\u001b[38;5;124mmiércoles\u001b[39m\u001b[38;5;124m\"\u001b[39m))\n",
      "\u001b[1;31mValueError\u001b[0m: 'miércoles' is not in list"
     ]
    }
   ],
   "source": [
    "# Encuentra el índice de 'miércoles' en dias_es.\n",
    "print(dias_en.index(\"miércoles\"))"
   ]
  },
  {
   "cell_type": "markdown",
   "id": "b7d43d05",
   "metadata": {},
   "source": [
    "Podría encontrar wednesday en dias_es"
   ]
  },
  {
   "cell_type": "code",
   "execution_count": 164,
   "id": "a416725e",
   "metadata": {},
   "outputs": [
    {
     "name": "stdout",
     "output_type": "stream",
     "text": [
      "2\n"
     ]
    }
   ],
   "source": [
    "print(dias_en.index(\"wednesday\"))"
   ]
  },
  {
   "cell_type": "code",
   "execution_count": 180,
   "id": "ff73a572",
   "metadata": {},
   "outputs": [
    {
     "name": "stdout",
     "output_type": "stream",
     "text": [
      "10\n"
     ]
    }
   ],
   "source": [
    "# (Bonus) Imprime esta frase en pantalla: 'La temperatura máxima esta semana será 14 ºC, que ocurrirá en 1 días(s).\n",
    "#  El día más frío tendrá una temperatura máxima de 10 ºC, que ocurrirá en 2 día(s).'\n",
    "t_min_dic = min(temperaturas_diciembre)\n",
    "print(t_min_dic)"
   ]
  },
  {
   "cell_type": "code",
   "execution_count": 188,
   "id": "d245a3f2",
   "metadata": {},
   "outputs": [
    {
     "name": "stdout",
     "output_type": "stream",
     "text": [
      "La temperatura máxima esta semana será 14 ºC, que ocurrirá en 3\n"
     ]
    }
   ],
   "source": [
    "print('La temperatura máxima esta semana será', temperaturas_diciembre[3], \"ºC, que ocurrirá en\", temperaturas_diciembre.count(temperaturas_diciembre[3]))"
   ]
  },
  {
   "cell_type": "code",
   "execution_count": null,
   "id": "08c72d03",
   "metadata": {},
   "outputs": [],
   "source": [
    "print(\"La temperatura máxima esta semana será\", temperaturas_diciembre[t_max_dic], \"ºC, que ocurrirá en\", temperaturas_diciembre.count(t_max_dic),\".\",\"El día más frío tendrá una temperatura máxima de\", temperaturas_diciembre(t_min), \"ºC, que ocurrirá en\", temperaturas_diciembre.count(t_min) )"
   ]
  },
  {
   "cell_type": "code",
   "execution_count": null,
   "id": "fa254348",
   "metadata": {},
   "outputs": [],
   "source": []
  }
 ],
 "metadata": {
  "kernelspec": {
   "display_name": "base",
   "language": "python",
   "name": "python3"
  },
  "language_info": {
   "codemirror_mode": {
    "name": "ipython",
    "version": 3
   },
   "file_extension": ".py",
   "mimetype": "text/x-python",
   "name": "python",
   "nbconvert_exporter": "python",
   "pygments_lexer": "ipython3",
   "version": "3.13.5"
  }
 },
 "nbformat": 4,
 "nbformat_minor": 5
}
