{
 "cells": [
  {
   "cell_type": "markdown",
   "id": "6a20bcd1",
   "metadata": {},
   "source": [
    "1. Crea las siguientes variables:\n",
    "\n",
    "var1sea ​​un número con el valor 8.\n",
    "\n",
    "var2sea ​​un número con el valor 2.\n",
    "\n",
    "var3sea ​​un número con el valor 8."
   ]
  },
  {
   "cell_type": "code",
   "execution_count": 1,
   "id": "83b00608",
   "metadata": {},
   "outputs": [],
   "source": [
    "var1 = 8\n",
    "var2 = 2\n",
    "var3 =8"
   ]
  },
  {
   "cell_type": "markdown",
   "id": "62388b19",
   "metadata": {},
   "source": [
    "2. Comprueba si var1es mayor que 6, y si es así imprime ¡Es enorme!."
   ]
  },
  {
   "cell_type": "code",
   "execution_count": 2,
   "id": "22de3dd7",
   "metadata": {},
   "outputs": [
    {
     "name": "stdout",
     "output_type": "stream",
     "text": [
      "¡Es enorme!\n"
     ]
    }
   ],
   "source": [
    "if var1 > 6:\n",
    "    print(\"¡Es enorme!\")"
   ]
  },
  {
   "cell_type": "markdown",
   "id": "b2c84867",
   "metadata": {},
   "source": [
    "3. Comprueba si var2es mayor que 6, y si es así imprime ¡Es enorme también!."
   ]
  },
  {
   "cell_type": "code",
   "execution_count": 3,
   "id": "ff3848b8",
   "metadata": {},
   "outputs": [],
   "source": [
    "if var2 > 6:\n",
    "    print(\"¡Es enorme también!\")"
   ]
  },
  {
   "cell_type": "markdown",
   "id": "61f0638e",
   "metadata": {},
   "source": [
    "4. Comprueba si var3es mayor que 6, y si es así imprime ¡Es enorme!seguido por ¡Pero de verdad!en otra línea (deberéis tener dos print )."
   ]
  },
  {
   "cell_type": "code",
   "execution_count": 4,
   "id": "11bdb319",
   "metadata": {},
   "outputs": [
    {
     "name": "stdout",
     "output_type": "stream",
     "text": [
      "¡Es enorme!\n",
      "¡Pero de verdad!\n"
     ]
    }
   ],
   "source": [
    "if var3 > 6:\n",
    "    print(\"¡Es enorme!\")\n",
    "    print(\"¡Pero de verdad!\")"
   ]
  },
  {
   "cell_type": "markdown",
   "id": "420d9069",
   "metadata": {},
   "source": [
    "5. Comprueba si var1es igual que var3, y si es así imprime Son iguales.."
   ]
  },
  {
   "cell_type": "code",
   "execution_count": 5,
   "id": "8701d31b",
   "metadata": {},
   "outputs": [
    {
     "name": "stdout",
     "output_type": "stream",
     "text": [
      "Son iguales\n"
     ]
    }
   ],
   "source": [
    "if var1 == var3:\n",
    "    print(\"Son iguales\")\n"
   ]
  },
  {
   "cell_type": "markdown",
   "id": "4e5913e0",
   "metadata": {},
   "source": [
    "6. Comprueba si var1es igual que var2, y si es así imprimeSon iguales."
   ]
  },
  {
   "cell_type": "code",
   "execution_count": 6,
   "id": "7b1d6e14",
   "metadata": {},
   "outputs": [],
   "source": [
    "if var1 == var2:\n",
    "    print(\"Son iguales\")"
   ]
  },
  {
   "cell_type": "markdown",
   "id": "47d1a1a7",
   "metadata": {},
   "source": [
    "7. Comprueba si var1es mayor o igual que var2, y si es así calcula la diferencia entre var1y var2, guárdala en la variable dif, e imprime 'La diferencia es',dif."
   ]
  },
  {
   "cell_type": "code",
   "execution_count": 7,
   "id": "3e2d782a",
   "metadata": {},
   "outputs": [
    {
     "name": "stdout",
     "output_type": "stream",
     "text": [
      "La diferencia es: 6\n"
     ]
    }
   ],
   "source": [
    "if var1 >= var2:\n",
    "    dif_var1_vs_var2 = var1 - var2\n",
    "    print(\"La diferencia es:\", dif_var1_vs_var2)"
   ]
  },
  {
   "cell_type": "markdown",
   "id": "533f177a",
   "metadata": {},
   "source": [
    "8. Comprueba si var1es mayor que 6, y si es así imprime ¡Es enorme!. Si no es así imprime Es chiquitín.."
   ]
  },
  {
   "cell_type": "code",
   "execution_count": 8,
   "id": "ba02fecb",
   "metadata": {},
   "outputs": [
    {
     "name": "stdout",
     "output_type": "stream",
     "text": [
      "¡Es enorme!\n"
     ]
    }
   ],
   "source": [
    "if var1 > 6:\n",
    "    print(\"¡Es enorme!\")\n",
    "else:\n",
    "     print(\"Es chiquitin\")"
   ]
  },
  {
   "cell_type": "markdown",
   "id": "85bf9ea2",
   "metadata": {},
   "source": [
    "9. Comprueba si var2es mayor que 6, y si es así imprime ¡Es enorme también!. Si no es así imprime Es chiquitín también.."
   ]
  },
  {
   "cell_type": "code",
   "execution_count": 9,
   "id": "0dbaa5f6",
   "metadata": {},
   "outputs": [
    {
     "name": "stdout",
     "output_type": "stream",
     "text": [
      "Es chiquitin también\n"
     ]
    }
   ],
   "source": [
    "if var2 > 6:\n",
    "    print(\"¡Es enorme también!\")\n",
    "else: \n",
    "    print(\"Es chiquitin también\")"
   ]
  },
  {
   "cell_type": "markdown",
   "id": "546be3d5",
   "metadata": {},
   "source": [
    "10. Comprueba si var1es igual a var3, y si es así imprime Son iguales.Si no es así imprimeSon distintos."
   ]
  },
  {
   "cell_type": "code",
   "execution_count": 10,
   "id": "018885fe",
   "metadata": {},
   "outputs": [
    {
     "name": "stdout",
     "output_type": "stream",
     "text": [
      "Son iguales\n"
     ]
    }
   ],
   "source": [
    "if var1 == var3:\n",
    "    print(\"Son iguales\")\n",
    "else:\n",
    "    print(\"Son distintos\")"
   ]
  },
  {
   "cell_type": "markdown",
   "id": "07585a4c",
   "metadata": {},
   "source": [
    "11. Escribe un programa para una empresa que tiene salas de juegos para todas las edades y quiere calcular de forma automática el precio que debe cobrar a sus clientes por entrar. El programa debe preguntar al usuario:\n",
    "\n",
    "La edad del cliente.\n",
    "\n",
    "Las condiciones que tendremos que comprobar:\n",
    "\n",
    "Si el cliente es menor de 4 años puede entrar gratis,\n",
    "\n",
    "Si tiene entre 4 y 18 años debe pagar 5€ y\n",
    "\n",
    "Si es mayor de 18 años, 10€."
   ]
  },
  {
   "cell_type": "code",
   "execution_count": null,
   "id": "daaff629",
   "metadata": {},
   "outputs": [],
   "source": [
    "edad_cliente = int(input(\"¿Cuál es la edad del cliente?\"))\n",
    "\n",
    "if edad_cliente < 4:\n",
    "    print(\"El cliente entra gratis\")\n",
    "elif edad_cliente > 4 or edad_cliente < 8:\n",
    "    print(\"El cliente paga 5€\")\n",
    "elif edad_cliente > 18:\n",
    "    print(\"El cliente paga 10€\")"
   ]
  },
  {
   "cell_type": "markdown",
   "id": "818ea4ac",
   "metadata": {},
   "source": [
    "12. Inicia la variable ahorroscon un valor de 5. Crea un bucle mientras que mientras los ahorros sean iguales o menores que 20imprimen por pantalla la cantidad de ahorros que tenemos, y añádele 5más. Cuando la variable ahorros supere el valor de 20 el bucle deberá parar."
   ]
  },
  {
   "cell_type": "code",
   "execution_count": null,
   "id": "4a565c5b",
   "metadata": {},
   "outputs": [
    {
     "name": "stdout",
     "output_type": "stream",
     "text": [
      "La cantidad de ahorros que tenemos es: 5\n",
      "La cantidad de ahorros que tenemos es: 10\n",
      "La cantidad de ahorros que tenemos es: 15\n",
      "La cantidad de ahorros que tenemos es: 20\n"
     ]
    }
   ],
   "source": [
    "ahorros = 5\n",
    "\n",
    "while ahorros <= 20:\n",
    "    print(\"La cantidad de ahorros que tenemos es:\", ahorros)\n",
    "    ahorros += 5"
   ]
  },
  {
   "cell_type": "markdown",
   "id": "5256d637",
   "metadata": {},
   "source": [
    "13. Escribe un programa que convierta grados Celsius a grados Fahrenheit o viceversa, según la elección del usuario. Para eso tendrás que preguntar:\n",
    "\n",
    "Desde que unidades va a convertir la temperatura, Celsius o Fahrenheit.\n",
    "\n",
    "¿Cuál es el valor de la temperatura que quiere convertir?"
   ]
  },
  {
   "cell_type": "code",
   "execution_count": 58,
   "id": "95f60858",
   "metadata": {},
   "outputs": [
    {
     "name": "stdout",
     "output_type": "stream",
     "text": [
      "El usuario quiere convertir a: fahrenheit\n",
      "El valor que quiere convertir es: 25.0 grados Celsius\n",
      "El valor en grados Fahrenhei es: 77.0\n"
     ]
    }
   ],
   "source": [
    "temperatura = input(\"¿A que unidades quieres convertir la temperatura: celsius o fahrenheit\")\n",
    "valor_temperatura = float(input(\"¿Que temperatura quieres definir?\"))\n",
    "celsius = True\n",
    "fahrenhei = True\n",
    "\n",
    "if temperatura == \"fahrenheit\":\n",
    "  print(\"El usuario quiere convertir a:\", temperatura)\n",
    "  print(\"El valor que quiere convertir es:\", valor_temperatura, \"grados Celsius\")\n",
    "  print(\"El valor en grados Fahrenhei es:\", (valor_temperatura*1.8)+ 32)\n",
    "\n",
    "if temperatura == \"celsius\":\n",
    "  print(\"El usuario quiere convertir a:\", temperatura)\n",
    "  print(\"El valor que quiere convertir es:\", valor_temperatura, \"grados Fahrenheit\")\n",
    "  print(\"El valor en grados Celsius es:\", (valor_temperatura - 32)* 1.8)\n"
   ]
  },
  {
   "cell_type": "markdown",
   "id": "79fb2456",
   "metadata": {},
   "source": [
    "14. Crea un programa que calcula el impuesto sobre la renta de una persona basado en su ingreso anual y su estado civil (soltero o casado). Para eso debes:\n",
    "\n",
    "Solicitar al usuario su ingreso anual.\n",
    "\n",
    "Preguntar al usuario su estado civil, permitiendo dos opciones: \"soltero\" (S) o \"casado\" (C).\n",
    "\n",
    "Calcula el impuesto sobre la renta utilizando las siguientes reglas:\n",
    "\n",
    "Si el estado civil es \"soltero\" (S):\n",
    "\n",
    "Si el ingreso anual es menor o igual a $9,875, el impuesto es el 10% del ingreso anual.\n",
    "\n",
    "Si el ingreso anual está entre $9,876 y $40,125, el impuesto es el 10% de los primeros $9,875 más el 12% de la cantidad que excede los $9,875.\n",
    "\n",
    "Si el estado civil es \"casado\" (C):\n",
    "\n",
    "Si el ingreso anual es menor o igual a $19,850, el impuesto es el 10% del ingreso anual.\n",
    "\n",
    "Si el ingreso anual está entre $19,851 y $80,250, el impuesto es el 10% de los primeros $19,850 más el 12% de la cantidad que excede los $19,850."
   ]
  },
  {
   "cell_type": "code",
   "execution_count": 20,
   "id": "c77b0072",
   "metadata": {},
   "outputs": [
    {
     "name": "stdout",
     "output_type": "stream",
     "text": [
      "El ingreso anual del usuario es: 9800\n",
      "y\n",
      "El estado civil del usuario es: S\n",
      "El impuesto sobre la renta será: 980.0\n"
     ]
    }
   ],
   "source": [
    "ingreso_anual = int(input(\"¿Cuál es tu ingreso anual?\"))\n",
    "print(\"El ingreso anual del usuario es:\", ingreso_anual)\n",
    "print(\"y\")\n",
    "estado_civil = input(\"¿Cuál es tu estado civil? Soltero (S) o Casado (C)\")\n",
    "print(\"El estado civil del usuario es:\", estado_civil)\n",
    "\n",
    "if estado_civil == \"S\":\n",
    "    if ingreso_anual <= 9875:\n",
    "        print(\"El impuesto sobre la renta será:\", ingreso_anual*0.1)\n",
    "    if ingreso_anual > 9875 and ingreso_anual < 40125:\n",
    "        print(\"El impuesto sobre la renta será:\", (9875*0.1)+((ingreso_anual-9875)*0.12))\n",
    "\n",
    "if estado_civil == \"C\":\n",
    "    if ingreso_anual <= 19850:\n",
    "        print(\"El impuesto sobre la renta será:\", ingreso_anual*0.1)\n",
    "    if ingreso_anual > 19851 and ingreso_anual < 80250:\n",
    "        print(\"El impuesto sobre la renta será:\", (19850*0.1)+((ingreso_anual-19851)*0.12))\n"
   ]
  },
  {
   "cell_type": "markdown",
   "id": "cd537a5b",
   "metadata": {},
   "source": [
    "15. Crea un programa que evalúe el nivel de contaminación del aire en función de la concentración de partículas en suspensión (PM2.5) en microgramos por metro cúbico (μg/m³). Para eso debes:\n",
    "\n",
    "Solicita al usuario que ingrese la concentración de PM2.5 en el aire en µg/m³. El usuario debe ingresar un valor numérico.\n",
    "\n",
    "Evalúa el nivel de contaminación del aire según la siguiente escala:\n",
    "\n",
    "Si la concentración de PM2.5 es menor o igual a 12 µg/m³, el aire se considera \"Excelente\".\n",
    "\n",
    "Si la concentración de PM2.5 está entre 13 µg/m³ y 35 µg/m³, el aire se considera \"Bueno\".\n",
    "\n",
    "Si la concentración de PM2.5 está entre 36 µg/m³ y 55 µg/m³, el aire se considera \"Aceptable\".\n",
    "\n",
    "Si la concentración de PM2.5 está entre 56 µg/m³ y 150 µg/m³, el aire se considera \"No Saludable para Grupos Sensibles\".\n",
    "\n",
    "Si la concentración de PM2.5 es mayor a 150 µg/m³, el aire se considera \"No Saludable\".\n",
    "\n",
    "Muestra un mensaje indicando el estado de la calidad del aire. Por ejemplo, si la concentración de PM2.5 es 25 µg/m³, el programa debe mostrar: \"La calidad del aire es Buena\".\n",
    "\n",
    "Además, si la concentración de PM2.5 está en la categoría \"No Saludable para Grupos Sensibles\" o \"No Saludable\", el programa debe anunciar al usuario sobre los posibles efectos en la salud.\n",
    "\n",
    "Si la concentración ingresada por el usuario es negativa o no es un número válido, el programa debe mostrar un mensaje de error."
   ]
  },
  {
   "cell_type": "code",
   "execution_count": 67,
   "id": "17033d79",
   "metadata": {},
   "outputs": [
    {
     "name": "stdout",
     "output_type": "stream",
     "text": [
      "La calidad del aire es Excelente\n"
     ]
    }
   ],
   "source": [
    "nivel_contaminacion = int(input(\"Indica la concentración de PM2.5 en μg/m³\"))\n",
    "\n",
    "\n",
    "if nivel_contaminacion > 0 and nivel_contaminacion < 12:\n",
    "    print(\"La calidad del aire es Excelente\")\n",
    "elif nivel_contaminacion > 13 and nivel_contaminacion < 35:\n",
    "    print(\"La calidad del aire es Bueno\")\n",
    "elif nivel_contaminacion > 36 and nivel_contaminacion < 55:\n",
    "    print(\"La calidad del aire es Aceptable\")\n",
    "elif nivel_contaminacion > 56 and nivel_contaminacion < 150:\n",
    "    print(\"La calidad del aire es No Saludable para Grupos Sensibles\")\n",
    "    print(\"Esto podría producir efectos adversos en la salud\")\n",
    "elif nivel_contaminacion > 150:\n",
    "    print(\"La calidad del aire es No Saludable\")\n",
    "    print(\"Esto podría producir efectos adversos en la salud\")\n",
    "elif nivel_contaminacion <= 0:\n",
    "    print(\"Error, escoge un valor valido\")\n",
    "\n",
    "\n"
   ]
  }
 ],
 "metadata": {
  "kernelspec": {
   "display_name": "base",
   "language": "python",
   "name": "python3"
  },
  "language_info": {
   "codemirror_mode": {
    "name": "ipython",
    "version": 3
   },
   "file_extension": ".py",
   "mimetype": "text/x-python",
   "name": "python",
   "nbconvert_exporter": "python",
   "pygments_lexer": "ipython3",
   "version": "3.13.5"
  }
 },
 "nbformat": 4,
 "nbformat_minor": 5
}
