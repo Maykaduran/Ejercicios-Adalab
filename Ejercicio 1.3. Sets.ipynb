{
 "cells": [
  {
   "cell_type": "markdown",
   "id": "3e510b13",
   "metadata": {},
   "source": [
    "1. Define la lista\n",
    "\n",
    "Copy\n",
    "temperaturas_diciembre = [10, 10, 13, 14, 12, 15, \n",
    "                          12, 11, 13, 17, 18, 15, \n",
    "                          15, 17, 17, 13, 13, 11,\n",
    "                          12, 10, 12, 14, 12, 12,\n",
    "                          11, 12, 16, 16, 14, 17, 18]"
   ]
  },
  {
   "cell_type": "code",
   "execution_count": 17,
   "id": "2c61e24b",
   "metadata": {},
   "outputs": [],
   "source": [
    "temperaturas_diciembre = [10, 10, 13, 14, 12, 15, \n",
    "                          12, 11, 13, 17, 18, 15, \n",
    "                          15, 17, 17, 13, 13, 11,\n",
    "                          12, 10, 12, 14, 12, 12,\n",
    "                          11, 12, 16, 16, 14, 17, 18]"
   ]
  },
  {
   "cell_type": "markdown",
   "id": "8b4fb68d",
   "metadata": {},
   "source": [
    "2. Conviértala en un set llamado diciembre."
   ]
  },
  {
   "cell_type": "code",
   "execution_count": 18,
   "id": "f707350b",
   "metadata": {},
   "outputs": [
    {
     "name": "stdout",
     "output_type": "stream",
     "text": [
      "{10, 11, 12, 13, 14, 15, 16, 17, 18}\n"
     ]
    }
   ],
   "source": [
    "temperaturas_diciembre = set(temperaturas_diciembre)\n",
    "print(temperaturas_diciembre)"
   ]
  },
  {
   "cell_type": "markdown",
   "id": "f8fa62c6",
   "metadata": {},
   "source": [
    "3. Piensa en 6 colores y almacenalos en un set llamado colores."
   ]
  },
  {
   "cell_type": "code",
   "execution_count": 19,
   "id": "440e7fba",
   "metadata": {},
   "outputs": [
    {
     "name": "stdout",
     "output_type": "stream",
     "text": [
      "{'morado', 'azul', 'rojo', 'naranja', 'verde', 'amarillo'}\n"
     ]
    }
   ],
   "source": [
    "colores = (\"rojo\", \"amarillo\", \"azul\", \"verde\", \"naranja\", \"morado\")\n",
    "colores = set(colores)\n",
    "print(colores)"
   ]
  },
  {
   "cell_type": "markdown",
   "id": "da54964f",
   "metadata": {},
   "source": [
    "4. Añade 'lila' a colores."
   ]
  },
  {
   "cell_type": "code",
   "execution_count": 20,
   "id": "0caac3ed",
   "metadata": {},
   "outputs": [
    {
     "name": "stdout",
     "output_type": "stream",
     "text": [
      "{'morado', 'lila', 'azul', 'rojo', 'naranja', 'verde', 'amarillo'}\n"
     ]
    }
   ],
   "source": [
    "colores.add(\"lila\")\n",
    "print(colores)"
   ]
  },
  {
   "cell_type": "markdown",
   "id": "c00c49a3",
   "metadata": {},
   "source": [
    "5. Añade 'azul', 'rojo', y 'granate' a colores usando .update()."
   ]
  },
  {
   "cell_type": "code",
   "execution_count": 34,
   "id": "796112b3",
   "metadata": {},
   "outputs": [
    {
     "ename": "AttributeError",
     "evalue": "'tuple' object has no attribute 'update'",
     "output_type": "error",
     "traceback": [
      "\u001b[1;31m---------------------------------------------------------------------------\u001b[0m",
      "\u001b[1;31mAttributeError\u001b[0m                            Traceback (most recent call last)",
      "Cell \u001b[1;32mIn[34], line 2\u001b[0m\n\u001b[0;32m      1\u001b[0m colores_actualizacion \u001b[38;5;241m=\u001b[39m (\u001b[38;5;124m\"\u001b[39m\u001b[38;5;124mazul\u001b[39m\u001b[38;5;124m\"\u001b[39m, \u001b[38;5;124m\"\u001b[39m\u001b[38;5;124mrojo\u001b[39m\u001b[38;5;124m\"\u001b[39m, \u001b[38;5;124m\"\u001b[39m\u001b[38;5;124mgranate\u001b[39m\u001b[38;5;124m\"\u001b[39m)\n\u001b[1;32m----> 2\u001b[0m colores_actualizacion\u001b[38;5;241m.\u001b[39mupdate(colores_actualizacion)\n",
      "\u001b[1;31mAttributeError\u001b[0m: 'tuple' object has no attribute 'update'"
     ]
    }
   ],
   "source": [
    "colores_actualizacion = (\"azul\", \"rojo\", \"granate\")\n",
    "colores_actualizacion.update(colores_actualizacion)\n"
   ]
  },
  {
   "cell_type": "markdown",
   "metadata": {},
   "source": [
    "6. Tu set de colores, ¿tiene 'verde'?"
   ]
  },
  {
   "cell_type": "code",
   "execution_count": 33,
   "id": "cbf3b7c3",
   "metadata": {},
   "outputs": [
    {
     "data": {
      "text/plain": [
       "False"
      ]
     },
     "execution_count": 33,
     "metadata": {},
     "output_type": "execute_result"
    }
   ],
   "source": [
    "\"verde\" in colores_actualizacion"
   ]
  },
  {
   "cell_type": "markdown",
   "id": "abb795d4",
   "metadata": {},
   "source": [
    "7. ¿Y tiene 'ROJO'?"
   ]
  },
  {
   "cell_type": "code",
   "execution_count": 35,
   "id": "f34c6b84",
   "metadata": {},
   "outputs": [
    {
     "data": {
      "text/plain": [
       "False"
      ]
     },
     "execution_count": 35,
     "metadata": {},
     "output_type": "execute_result"
    }
   ],
   "source": [
    "\"ROJO\" in colores_actualizacion"
   ]
  },
  {
   "cell_type": "markdown",
   "id": "bf960b08",
   "metadata": {},
   "source": [
    "8. Define el set enero para que sea igual a diciembre."
   ]
  },
  {
   "cell_type": "code",
   "execution_count": 37,
   "id": "eb58c94b",
   "metadata": {},
   "outputs": [
    {
     "name": "stdout",
     "output_type": "stream",
     "text": [
      "{10, 11, 12, 13, 14, 15, 16, 17, 18}\n"
     ]
    }
   ],
   "source": [
    "temperaturas_enero = temperaturas_diciembre.copy()\n",
    "print(temperaturas_enero)"
   ]
  },
  {
   "cell_type": "markdown",
   "metadata": {},
   "source": [
    "9. Quita las temperaturas 17, y 18 de enero."
   ]
  },
  {
   "cell_type": "code",
   "execution_count": 38,
   "id": "0eda25b6",
   "metadata": {},
   "outputs": [],
   "source": [
    "temperaturas_enero.remove(17)"
   ]
  },
  {
   "cell_type": "code",
   "execution_count": 39,
   "id": "2936d4ba",
   "metadata": {},
   "outputs": [],
   "source": [
    "temperaturas_enero.remove(18)"
   ]
  },
  {
   "cell_type": "code",
   "execution_count": 40,
   "id": "cbb57799",
   "metadata": {},
   "outputs": [
    {
     "name": "stdout",
     "output_type": "stream",
     "text": [
      "{10, 11, 12, 13, 14, 15, 16}\n"
     ]
    }
   ],
   "source": [
    "print(temperaturas_enero)"
   ]
  },
  {
   "cell_type": "markdown",
   "id": "44d7b3c8",
   "metadata": {},
   "source": [
    "10. ¿Cuántas temperaturas distintas había en diciembre?"
   ]
  },
  {
   "cell_type": "code",
   "execution_count": 42,
   "id": "598c84ea",
   "metadata": {},
   "outputs": [
    {
     "data": {
      "text/plain": [
       "9"
      ]
     },
     "execution_count": 42,
     "metadata": {},
     "output_type": "execute_result"
    }
   ],
   "source": [
    "len(temperaturas_diciembre)"
   ]
  },
  {
   "cell_type": "markdown",
   "id": "dbca5bd1",
   "metadata": {},
   "source": [
    "11. ¿Y cuántas en enero?"
   ]
  },
  {
   "cell_type": "code",
   "execution_count": 43,
   "id": "ef97ee0b",
   "metadata": {},
   "outputs": [
    {
     "data": {
      "text/plain": [
       "7"
      ]
     },
     "execution_count": 43,
     "metadata": {},
     "output_type": "execute_result"
    }
   ],
   "source": [
    "len(temperaturas_enero)"
   ]
  },
  {
   "cell_type": "markdown",
   "metadata": {},
   "source": [
    "12. Identifica los elementos que hay en diciembre que no están en enero."
   ]
  },
  {
   "cell_type": "code",
   "execution_count": 47,
   "id": "521e0733",
   "metadata": {},
   "outputs": [
    {
     "name": "stdout",
     "output_type": "stream",
     "text": [
      "{17, 18}\n"
     ]
    }
   ],
   "source": [
    "dif_dic_vs_ene = temperaturas_diciembre.difference(temperaturas_enero)\n",
    "print(dif_dic_vs_ene)"
   ]
  },
  {
   "cell_type": "markdown",
   "id": "acb7490d",
   "metadata": {},
   "source": [
    "13. Identifica los elementos que hay en enero que no están en diciembre."
   ]
  },
  {
   "cell_type": "code",
   "execution_count": 48,
   "id": "0386fae6",
   "metadata": {},
   "outputs": [
    {
     "name": "stdout",
     "output_type": "stream",
     "text": [
      "set()\n"
     ]
    }
   ],
   "source": [
    "dif_ene_vs_dic = temperaturas_enero.difference(temperaturas_diciembre)\n",
    "print(dif_ene_vs_dic)"
   ]
  },
  {
   "cell_type": "markdown",
   "metadata": {},
   "source": [
    "14. Identifica los elementos que tienen en común diciembre y enero."
   ]
  },
  {
   "cell_type": "code",
   "execution_count": 51,
   "id": "13ec107f",
   "metadata": {},
   "outputs": [
    {
     "name": "stdout",
     "output_type": "stream",
     "text": [
      "{10, 11, 12, 13, 14, 15, 16}\n"
     ]
    }
   ],
   "source": [
    "comun_dic_ene = temperaturas_diciembre.intersection(temperaturas_enero)\n",
    "print(comun_dic_ene)"
   ]
  },
  {
   "cell_type": "markdown",
   "metadata": {},
   "source": [
    "15. Identifica la diferencia simétrica de colores y {'marrón','amarillo','cyan'}. ¿Qué significa este resultado?"
   ]
  },
  {
   "cell_type": "code",
   "execution_count": 57,
   "id": "f623714a",
   "metadata": {},
   "outputs": [
    {
     "name": "stdout",
     "output_type": "stream",
     "text": [
      "('azul', 'rojo', 'granate')\n"
     ]
    }
   ],
   "source": [
    "set2 = {\"marron\", \"amarillo\", \"cyan\"}\n",
    "print(colores_actualizacion)"
   ]
  },
  {
   "cell_type": "code",
   "execution_count": 59,
   "id": "93eee942",
   "metadata": {},
   "outputs": [
    {
     "name": "stdout",
     "output_type": "stream",
     "text": [
      "{'azul', 'rojo', 'cyan', 'marron', 'granate', 'amarillo'}\n"
     ]
    }
   ],
   "source": [
    "dif_simetrica = set2.symmetric_difference(colores_actualizacion)\n",
    "print(dif_simetrica)"
   ]
  },
  {
   "cell_type": "markdown",
   "id": "8b420c76",
   "metadata": {},
   "source": [
    "16. ¿Son disjoint diciembre y enero? ¿Por qué (no)? Devuelve False porque al menos un elemento coincide"
   ]
  },
  {
   "cell_type": "code",
   "execution_count": 61,
   "id": "7c0b5754",
   "metadata": {},
   "outputs": [
    {
     "name": "stdout",
     "output_type": "stream",
     "text": [
      "False\n"
     ]
    }
   ],
   "source": [
    "set_disjoint1 = temperaturas_diciembre.isdisjoint(temperaturas_enero)\n",
    "print(set_disjoint1)"
   ]
  },
  {
   "cell_type": "code",
   "execution_count": 62,
   "id": "00b5073c",
   "metadata": {},
   "outputs": [
    {
     "name": "stdout",
     "output_type": "stream",
     "text": [
      "False\n"
     ]
    }
   ],
   "source": [
    "set_disjoint2 = temperaturas_enero.isdisjoint(temperaturas_diciembre)\n",
    "print(set_disjoint2)"
   ]
  },
  {
   "cell_type": "markdown",
   "id": "aee2de60",
   "metadata": {},
   "source": [
    "17. ¿Es {'rojo','azul'} un superset de colores?"
   ]
  },
  {
   "cell_type": "markdown",
   "id": "a16e517a",
   "metadata": {},
   "source": [
    "18. ¿Y un subset?"
   ]
  },
  {
   "cell_type": "code",
   "execution_count": null,
   "id": "94e2e80e",
   "metadata": {},
   "outputs": [],
   "source": []
  }
 ],
 "metadata": {
  "kernelspec": {
   "display_name": "base",
   "language": "python",
   "name": "python3"
  },
  "language_info": {
   "codemirror_mode": {
    "name": "ipython",
    "version": 3
   },
   "file_extension": ".py",
   "mimetype": "text/x-python",
   "name": "python",
   "nbconvert_exporter": "python",
   "pygments_lexer": "ipython3",
   "version": "3.13.5"
  }
 },
 "nbformat": 4,
 "nbformat_minor": 5
}
