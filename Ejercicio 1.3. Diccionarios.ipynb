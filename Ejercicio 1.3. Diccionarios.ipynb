{
 "cells": [
  {
   "cell_type": "markdown",
   "id": "73261079",
   "metadata": {},
   "source": [
    "1. Crea el diccionario festivos con las fechas como claves y los nombres como valores: 01/01: Año Nuevo, 06/01: Epifanía del Señor, 15/04: Viernes Santo, 15/08: Asunción de la Virgen, 12/10: Fiesta Nacional de España, 01/11: Todos los Santos, 06/12: Día de la Constitución Española, y 08/12: Inmaculada Concepción."
   ]
  },
  {
   "cell_type": "code",
   "execution_count": 41,
   "id": "e7f65e8d",
   "metadata": {},
   "outputs": [],
   "source": [
    "festivos = {\"1/1\": \"Año Nuevo\", \"6/1\": \"Epifanía del Señor\", \"15/4\": \"Viernes Santo\", \"15/8\": \"Asunción de la Virgen\", \"12/10\": \"Fiesta Nacional de España\", \"1/11\": \"Todos los Santos\", \"6/12\": \"Día de la Constitución Española\", \"8/12\": \"Inmaculada Concepción\"}"
   ]
  },
  {
   "cell_type": "code",
   "execution_count": 42,
   "id": "5978dcec",
   "metadata": {},
   "outputs": [
    {
     "name": "stdout",
     "output_type": "stream",
     "text": [
      "{'1/1': 'Año Nuevo', '6/1': 'Epifanía del Señor', '15/4': 'Viernes Santo', '15/8': 'Asunción de la Virgen', '12/10': 'Fiesta Nacional de España', '1/11': 'Todos los Santos', '6/12': 'Día de la Constitución Española', '8/12': 'Inmaculada Concepción'}\n"
     ]
    }
   ],
   "source": [
    "print(festivos)"
   ]
  },
  {
   "cell_type": "markdown",
   "id": "8f6d2c9a",
   "metadata": {},
   "source": [
    "2. Crea el diccionario monarcas con los países como claves y los nombres como valores: Bélgica: Philippe, Dinamarca: Margrethe II, Holanda: Beatrix, Noruega: Harald V, España: Felipe VI, Reino Unido: Carlos III."
   ]
  },
  {
   "cell_type": "code",
   "execution_count": 43,
   "id": "eb52e2ce",
   "metadata": {},
   "outputs": [],
   "source": [
    "monarcas = {\"Bélgica\": \"Philippe\", \"Dinamarca\": \"Margrethe II\", \"Holanda\": \"Beatrix\", \"Noruega\": \"Harald V\", \"España\": \"Felipe VI\", \"Reino Unido\":\" Carlos III\"}"
   ]
  },
  {
   "cell_type": "code",
   "execution_count": 44,
   "id": "7650a12a",
   "metadata": {},
   "outputs": [
    {
     "name": "stdout",
     "output_type": "stream",
     "text": [
      "{'Bélgica': 'Philippe', 'Dinamarca': 'Margrethe II', 'Holanda': 'Beatrix', 'Noruega': 'Harald V', 'España': 'Felipe VI', 'Reino Unido': ' Carlos III'}\n"
     ]
    }
   ],
   "source": [
    "print(monarcas)"
   ]
  },
  {
   "cell_type": "markdown",
   "id": "ef66b18b",
   "metadata": {},
   "source": [
    "3. ¿Qué festivo hay el 15/04?"
   ]
  },
  {
   "cell_type": "code",
   "execution_count": 45,
   "id": "58202751",
   "metadata": {},
   "outputs": [
    {
     "data": {
      "text/plain": [
       "True"
      ]
     },
     "execution_count": 45,
     "metadata": {},
     "output_type": "execute_result"
    }
   ],
   "source": [
    "\"15/4\" in festivos"
   ]
  },
  {
   "cell_type": "code",
   "execution_count": 46,
   "id": "fa74c7d8",
   "metadata": {},
   "outputs": [
    {
     "data": {
      "text/plain": [
       "'Viernes Santo'"
      ]
     },
     "execution_count": 46,
     "metadata": {},
     "output_type": "execute_result"
    }
   ],
   "source": [
    "festivos.get(\"15/4\")"
   ]
  },
  {
   "cell_type": "code",
   "execution_count": 47,
   "id": "24244c44",
   "metadata": {},
   "outputs": [
    {
     "data": {
      "text/plain": [
       "dict_keys(['1/1', '6/1', '15/4', '15/8', '12/10', '1/11', '6/12', '8/12'])"
      ]
     },
     "execution_count": 47,
     "metadata": {},
     "output_type": "execute_result"
    }
   ],
   "source": [
    "festivos.keys()"
   ]
  },
  {
   "cell_type": "code",
   "execution_count": 48,
   "id": "b9e0894b",
   "metadata": {},
   "outputs": [
    {
     "name": "stdout",
     "output_type": "stream",
     "text": [
      "('1/1', '6/1', '15/4', '15/8', '12/10', '1/11', '6/12', '8/12')\n"
     ]
    }
   ],
   "source": [
    "fechas_festivos = tuple(festivos.keys())\n",
    "print(fechas_festivos)"
   ]
  },
  {
   "cell_type": "code",
   "execution_count": 49,
   "id": "d4edcce2",
   "metadata": {},
   "outputs": [
    {
     "name": "stdout",
     "output_type": "stream",
     "text": [
      "('Año Nuevo', 'Epifanía del Señor', 'Viernes Santo', 'Asunción de la Virgen', 'Fiesta Nacional de España', 'Todos los Santos', 'Día de la Constitución Española', 'Inmaculada Concepción')\n"
     ]
    }
   ],
   "source": [
    "nombre_festivos = tuple(festivos.values())\n",
    "print(nombre_festivos)"
   ]
  },
  {
   "cell_type": "code",
   "execution_count": 50,
   "id": "236aaf2e",
   "metadata": {},
   "outputs": [
    {
     "data": {
      "text/plain": [
       "2"
      ]
     },
     "execution_count": 50,
     "metadata": {},
     "output_type": "execute_result"
    }
   ],
   "source": [
    "fechas_festivos.index(\"15/4\")"
   ]
  },
  {
   "cell_type": "code",
   "execution_count": 51,
   "id": "91944368",
   "metadata": {},
   "outputs": [
    {
     "data": {
      "text/plain": [
       "'Viernes Santo'"
      ]
     },
     "execution_count": 51,
     "metadata": {},
     "output_type": "execute_result"
    }
   ],
   "source": [
    "nombre_festivos[2]"
   ]
  },
  {
   "cell_type": "markdown",
   "id": "5c3bcad7",
   "metadata": {},
   "source": [
    "4. La reina 'Beatrix' abdicó, ahora es el rey 'Willem-Alexander'. Actualiza el dict."
   ]
  },
  {
   "cell_type": "code",
   "execution_count": 52,
   "id": "a5da6348",
   "metadata": {},
   "outputs": [],
   "source": [
    "monarcas[\"Holanda\"] = \"Willem-Alexander\""
   ]
  },
  {
   "cell_type": "code",
   "execution_count": 53,
   "id": "931f22fe",
   "metadata": {},
   "outputs": [
    {
     "name": "stdout",
     "output_type": "stream",
     "text": [
      "{'Bélgica': 'Philippe', 'Dinamarca': 'Margrethe II', 'Holanda': 'Willem-Alexander', 'Noruega': 'Harald V', 'España': 'Felipe VI', 'Reino Unido': ' Carlos III'}\n"
     ]
    }
   ],
   "source": [
    "print(monarcas)"
   ]
  },
  {
   "cell_type": "markdown",
   "id": "8e15573a",
   "metadata": {},
   "source": [
    "5. El rey de Luxemburgo se llama Henri. Añadelo al dict usando .update()."
   ]
  },
  {
   "cell_type": "code",
   "execution_count": 54,
   "id": "423a85c3",
   "metadata": {},
   "outputs": [
    {
     "name": "stdout",
     "output_type": "stream",
     "text": [
      "{'Luxemburgo': 'Henri'}\n"
     ]
    }
   ],
   "source": [
    "monarcas2 = {\"Luxemburgo\" : \"Henri\"}\n",
    "print(monarcas2)"
   ]
  },
  {
   "cell_type": "code",
   "execution_count": 55,
   "id": "3a514d21",
   "metadata": {},
   "outputs": [
    {
     "name": "stdout",
     "output_type": "stream",
     "text": [
      "{'Bélgica': 'Philippe', 'Dinamarca': 'Margrethe II', 'Holanda': 'Willem-Alexander', 'Noruega': 'Harald V', 'España': 'Felipe VI', 'Reino Unido': ' Carlos III', 'Luxemburgo': 'Henri'}\n"
     ]
    }
   ],
   "source": [
    "monarcas.update(monarcas2)\n",
    "print(monarcas)"
   ]
  },
  {
   "cell_type": "markdown",
   "id": "6b544c30",
   "metadata": {},
   "source": [
    "6. ¿Cuántos países están definidos en monarcas?"
   ]
  },
  {
   "cell_type": "code",
   "execution_count": 56,
   "id": "dcc8b2ed",
   "metadata": {},
   "outputs": [
    {
     "name": "stdout",
     "output_type": "stream",
     "text": [
      "7\n"
     ]
    }
   ],
   "source": [
    "print(len(monarcas))"
   ]
  },
  {
   "cell_type": "markdown",
   "id": "2d6a9242",
   "metadata": {},
   "source": [
    "7. ¿Es 'Monaco' uno de ellos?"
   ]
  },
  {
   "cell_type": "code",
   "execution_count": 57,
   "id": "c7161958",
   "metadata": {},
   "outputs": [
    {
     "data": {
      "text/plain": [
       "False"
      ]
     },
     "execution_count": 57,
     "metadata": {},
     "output_type": "execute_result"
    }
   ],
   "source": [
    "\"Monaco\" in monarcas"
   ]
  },
  {
   "cell_type": "markdown",
   "id": "2db7b90f",
   "metadata": {},
   "source": [
    "8. ¿Es verdad que nos olvidamos de poner 'Suecia'? Compruébalo de una manera en que obtengas un True o False."
   ]
  },
  {
   "cell_type": "code",
   "execution_count": 58,
   "id": "db8004e7",
   "metadata": {},
   "outputs": [
    {
     "data": {
      "text/plain": [
       "True"
      ]
     },
     "execution_count": 58,
     "metadata": {},
     "output_type": "execute_result"
    }
   ],
   "source": [
    "\"Suecia\" not in monarcas"
   ]
  },
  {
   "cell_type": "markdown",
   "id": "dee3585d",
   "metadata": {},
   "source": [
    "9. Saca una lista de todos los países en el dict monarcas."
   ]
  },
  {
   "cell_type": "code",
   "execution_count": 59,
   "id": "d29c670d",
   "metadata": {},
   "outputs": [
    {
     "name": "stdout",
     "output_type": "stream",
     "text": [
      "['Bélgica', 'Dinamarca', 'Holanda', 'Noruega', 'España', 'Reino Unido', 'Luxemburgo']\n"
     ]
    }
   ],
   "source": [
    "paises = list(monarcas.keys())\n",
    "print(paises)"
   ]
  },
  {
   "cell_type": "markdown",
   "id": "9f833885",
   "metadata": {},
   "source": [
    "10. Saca una lista de los nombres de los festivos."
   ]
  },
  {
   "cell_type": "code",
   "execution_count": 60,
   "id": "b80db3e9",
   "metadata": {},
   "outputs": [
    {
     "name": "stdout",
     "output_type": "stream",
     "text": [
      "['Año Nuevo', 'Epifanía del Señor', 'Viernes Santo', 'Asunción de la Virgen', 'Fiesta Nacional de España', 'Todos los Santos', 'Día de la Constitución Española', 'Inmaculada Concepción']\n"
     ]
    }
   ],
   "source": [
    "nombres = list(festivos.values())\n",
    "print(nombres)"
   ]
  },
  {
   "cell_type": "markdown",
   "id": "bf40ea5d",
   "metadata": {},
   "source": [
    "11. Imprime el diccionario de festivos."
   ]
  },
  {
   "cell_type": "code",
   "execution_count": 61,
   "id": "302666fb",
   "metadata": {},
   "outputs": [
    {
     "data": {
      "text/plain": [
       "{'1/1': 'Año Nuevo',\n",
       " '6/1': 'Epifanía del Señor',\n",
       " '15/4': 'Viernes Santo',\n",
       " '15/8': 'Asunción de la Virgen',\n",
       " '12/10': 'Fiesta Nacional de España',\n",
       " '1/11': 'Todos los Santos',\n",
       " '6/12': 'Día de la Constitución Española',\n",
       " '8/12': 'Inmaculada Concepción'}"
      ]
     },
     "execution_count": 61,
     "metadata": {},
     "output_type": "execute_result"
    }
   ],
   "source": [
    "dict(festivos)"
   ]
  },
  {
   "cell_type": "markdown",
   "id": "3e866c55",
   "metadata": {},
   "source": [
    "12. Imprime una lista de tuplas de todos los elementos que hay en festivos."
   ]
  },
  {
   "cell_type": "code",
   "execution_count": 62,
   "id": "49f05131",
   "metadata": {},
   "outputs": [
    {
     "data": {
      "text/plain": [
       "('1/1',\n",
       " '6/1',\n",
       " '15/4',\n",
       " '15/8',\n",
       " '12/10',\n",
       " '1/11',\n",
       " '6/12',\n",
       " '8/12',\n",
       " 'Año Nuevo',\n",
       " 'Epifanía del Señor',\n",
       " 'Viernes Santo',\n",
       " 'Asunción de la Virgen',\n",
       " 'Fiesta Nacional de España',\n",
       " 'Todos los Santos',\n",
       " 'Día de la Constitución Española',\n",
       " 'Inmaculada Concepción')"
      ]
     },
     "execution_count": 62,
     "metadata": {},
     "output_type": "execute_result"
    }
   ],
   "source": [
    "tuple(festivos.keys())+tuple(festivos.values())"
   ]
  },
  {
   "cell_type": "markdown",
   "id": "15aba956",
   "metadata": {},
   "source": [
    "13. Copia monarcas a monarcas2010."
   ]
  },
  {
   "cell_type": "code",
   "execution_count": 63,
   "id": "5b81c8cc",
   "metadata": {},
   "outputs": [
    {
     "name": "stdout",
     "output_type": "stream",
     "text": [
      "{'Bélgica': 'Philippe', 'Dinamarca': 'Margrethe II', 'Holanda': 'Willem-Alexander', 'Noruega': 'Harald V', 'España': 'Felipe VI', 'Reino Unido': ' Carlos III', 'Luxemburgo': 'Henri'}\n"
     ]
    }
   ],
   "source": [
    "monarcas2010 = monarcas.copy()\n",
    "print(monarcas2010)"
   ]
  },
  {
   "cell_type": "markdown",
   "id": "226add17",
   "metadata": {},
   "source": [
    "14. Quita España de monarcas2010."
   ]
  },
  {
   "cell_type": "code",
   "execution_count": 65,
   "id": "5cbd4c52",
   "metadata": {},
   "outputs": [
    {
     "data": {
      "text/plain": [
       "'Felipe VI'"
      ]
     },
     "execution_count": 65,
     "metadata": {},
     "output_type": "execute_result"
    }
   ],
   "source": [
    "monarcas2010.pop(\"España\")"
   ]
  },
  {
   "cell_type": "code",
   "execution_count": 66,
   "id": "38e79a93",
   "metadata": {},
   "outputs": [
    {
     "name": "stdout",
     "output_type": "stream",
     "text": [
      "{'Bélgica': 'Philippe', 'Dinamarca': 'Margrethe II', 'Holanda': 'Willem-Alexander', 'Noruega': 'Harald V', 'Reino Unido': ' Carlos III', 'Luxemburgo': 'Henri'}\n"
     ]
    }
   ],
   "source": [
    "print(monarcas2010)"
   ]
  },
  {
   "cell_type": "markdown",
   "id": "a7d482da",
   "metadata": {},
   "source": [
    "15. Quita el último elemento de monarcas2010."
   ]
  },
  {
   "cell_type": "code",
   "execution_count": 67,
   "id": "66a05795",
   "metadata": {},
   "outputs": [
    {
     "data": {
      "text/plain": [
       "('Luxemburgo', 'Henri')"
      ]
     },
     "execution_count": 67,
     "metadata": {},
     "output_type": "execute_result"
    }
   ],
   "source": [
    "monarcas2010.popitem()"
   ]
  },
  {
   "cell_type": "code",
   "execution_count": 68,
   "id": "b4a283fc",
   "metadata": {},
   "outputs": [
    {
     "name": "stdout",
     "output_type": "stream",
     "text": [
      "{'Bélgica': 'Philippe', 'Dinamarca': 'Margrethe II', 'Holanda': 'Willem-Alexander', 'Noruega': 'Harald V', 'Reino Unido': ' Carlos III'}\n"
     ]
    }
   ],
   "source": [
    "print(monarcas2010)"
   ]
  },
  {
   "cell_type": "markdown",
   "id": "b72f1be3",
   "metadata": {},
   "source": [
    "16. Vacia el dict monarcas2010."
   ]
  },
  {
   "cell_type": "code",
   "execution_count": 69,
   "id": "66186054",
   "metadata": {},
   "outputs": [
    {
     "name": "stdout",
     "output_type": "stream",
     "text": [
      "{}\n"
     ]
    }
   ],
   "source": [
    "monarcas2010.clear()\n",
    "print(monarcas2010)"
   ]
  },
  {
   "cell_type": "markdown",
   "id": "6da80b83",
   "metadata": {},
   "source": [
    "17. ¿Qué festivo hay el 06/01?"
   ]
  },
  {
   "cell_type": "code",
   "execution_count": 70,
   "id": "bcda8196",
   "metadata": {},
   "outputs": [
    {
     "data": {
      "text/plain": [
       "True"
      ]
     },
     "execution_count": 70,
     "metadata": {},
     "output_type": "execute_result"
    }
   ],
   "source": [
    "\"6/1\" in festivos"
   ]
  },
  {
   "cell_type": "code",
   "execution_count": 73,
   "id": "61ab0e24",
   "metadata": {},
   "outputs": [
    {
     "data": {
      "text/plain": [
       "'Epifanía del Señor'"
      ]
     },
     "execution_count": 73,
     "metadata": {},
     "output_type": "execute_result"
    }
   ],
   "source": [
    "festivos.get(\"6/1\")"
   ]
  },
  {
   "cell_type": "markdown",
   "id": "22713c55",
   "metadata": {},
   "source": [
    "18. Obten el festivo que haya el 08/03, y en su defecto devuélve 'Día Internacional de la Mujer'."
   ]
  },
  {
   "cell_type": "code",
   "execution_count": 84,
   "id": "aec4a01e",
   "metadata": {},
   "outputs": [
    {
     "name": "stdout",
     "output_type": "stream",
     "text": [
      "{'8/3': 'Día Internacional de la Mujer'}\n"
     ]
    }
   ],
   "source": [
    "nuevo_festivo = {\"8/3\": \"Día Internacional de la Mujer\"}\n",
    "print(nuevo_festivo)\n",
    "festivos.update(nuevo_festivo)"
   ]
  },
  {
   "cell_type": "code",
   "execution_count": 85,
   "id": "ef49f24a",
   "metadata": {},
   "outputs": [
    {
     "name": "stdout",
     "output_type": "stream",
     "text": [
      "{'1/1': 'Año Nuevo', '6/1': 'Epifanía del Señor', '15/4': 'Viernes Santo', '15/8': 'Asunción de la Virgen', '12/10': 'Fiesta Nacional de España', '1/11': 'Todos los Santos', '6/12': 'Día de la Constitución Española', '8/12': 'Inmaculada Concepción', '8/3': 'Día Internacional de la Mujer'}\n"
     ]
    }
   ],
   "source": [
    "print(festivos)"
   ]
  },
  {
   "cell_type": "markdown",
   "id": "6fd69dee",
   "metadata": {},
   "source": [
    "19. Obten el festivo que haya el 31/11, y si no existe crea un par de clave-valor nuevo con el valor de 'Todos los Santos'."
   ]
  },
  {
   "cell_type": "code",
   "execution_count": 91,
   "id": "49b26c9a",
   "metadata": {},
   "outputs": [
    {
     "name": "stdout",
     "output_type": "stream",
     "text": [
      "None\n"
     ]
    }
   ],
   "source": [
    "print(festivos.get(\"31/1\"))\n"
   ]
  },
  {
   "cell_type": "code",
   "execution_count": 95,
   "id": "2b4494d2",
   "metadata": {},
   "outputs": [],
   "source": [
    "nuevo_festivo2 = {\"31/1\": \"Todos los Santos\"}\n",
    "festivos.update(nuevo_festivo2)\n"
   ]
  },
  {
   "cell_type": "code",
   "execution_count": 96,
   "id": "c8f59358",
   "metadata": {},
   "outputs": [
    {
     "name": "stdout",
     "output_type": "stream",
     "text": [
      "{'1/1': 'Año Nuevo', '6/1': 'Epifanía del Señor', '15/4': 'Viernes Santo', '15/8': 'Asunción de la Virgen', '12/10': 'Fiesta Nacional de España', '1/11': 'Todos los Santos', '6/12': 'Día de la Constitución Española', '8/12': 'Inmaculada Concepción', '8/3': 'Día Internacional de la Mujer', '31/1': 'Todos los Santos'}\n"
     ]
    }
   ],
   "source": [
    "print(festivos)"
   ]
  }
 ],
 "metadata": {
  "kernelspec": {
   "display_name": "base",
   "language": "python",
   "name": "python3"
  },
  "language_info": {
   "codemirror_mode": {
    "name": "ipython",
    "version": 3
   },
   "file_extension": ".py",
   "mimetype": "text/x-python",
   "name": "python",
   "nbconvert_exporter": "python",
   "pygments_lexer": "ipython3",
   "version": "3.13.5"
  }
 },
 "nbformat": 4,
 "nbformat_minor": 5
}
